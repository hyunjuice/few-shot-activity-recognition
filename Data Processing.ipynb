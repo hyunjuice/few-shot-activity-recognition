{
 "cells": [
  {
   "cell_type": "code",
   "execution_count": 1,
   "metadata": {},
   "outputs": [],
   "source": [
    "import pandas as pd"
   ]
  },
  {
   "cell_type": "code",
   "execution_count": 12,
   "metadata": {},
   "outputs": [
    {
     "name": "stdout",
     "output_type": "stream",
     "text": [
      "                 0         1        2      3    4\n",
      "0       2012-07-18  12:54:45     D001  CLOSE  NaN\n",
      "1       2012-07-18  12:54:45     D002   OPEN  NaN\n",
      "2       2012-07-18  12:54:45     T102     78  NaN\n",
      "3       2012-07-18  12:54:45  BATP102     85  NaN\n",
      "4       2012-07-18  12:54:45  BATV102   2830  NaN\n",
      "...            ...       ...      ...    ...  ...\n",
      "326061  2012-09-17  23:52:19     M012    OFF  NaN\n",
      "326062  2012-09-17  23:53:10     M012     ON  NaN\n",
      "326063  2012-09-17  23:53:12     M012    OFF  NaN\n",
      "326064  2012-09-17  23:53:15     M012     ON  NaN\n",
      "326065  2012-09-17  23:53:16     M012    OFF  NaN\n",
      "\n",
      "[326066 rows x 5 columns]\n",
      "                 0         1     2    3                 4    5\n",
      "0       2013-03-01   1:08:59  M015   ON  Sleep_Out_Of_Bed  NaN\n",
      "1       2013-03-01   1:09:00  M015  OFF  Sleep_Out_Of_Bed  NaN\n",
      "2       2013-03-01   1:40:35  M015   ON  Sleep_Out_Of_Bed  NaN\n",
      "3       2013-03-01   1:40:37  M015  OFF  Sleep_Out_Of_Bed  NaN\n",
      "4       2013-03-01   1:54:27  M015   ON  Sleep_Out_Of_Bed  NaN\n",
      "...            ...       ...   ...  ...               ...  ...\n",
      "216250  2013-04-30  19:40:17  M015  OFF  Sleep_Out_Of_Bed  NaN\n",
      "216251  2013-04-30  20:05:50  M017   ON  Sleep_Out_Of_Bed  NaN\n",
      "216252  2013-04-30  20:05:52  M017  OFF  Sleep_Out_Of_Bed  NaN\n",
      "216253  2013-04-30  22:12:40  M015   ON  Sleep_Out_Of_Bed  NaN\n",
      "216254  2013-04-30  22:12:41  M015  OFF  Sleep_Out_Of_Bed  NaN\n",
      "\n",
      "[216255 rows x 6 columns]\n"
     ]
    }
   ],
   "source": [
    "casas101_df = pd.read_csv('hh101/ann.csv',header=None)\n",
    "casas125_df = pd.read_csv('hh125/ann.csv',header=None)\n",
    "print(casas101_df)\n",
    "print(casas125_df)"
   ]
  },
  {
   "cell_type": "code",
   "execution_count": 16,
   "metadata": {},
   "outputs": [
    {
     "name": "stdout",
     "output_type": "stream",
     "text": [
      "                             0                                  1   \\\n",
      "0       2016-07-25 15:47:00,150               tv_salon_real_status   \n",
      "1       2016-07-25 15:47:02,885              tv_bureau_real_status   \n",
      "2       2016-07-25 15:47:06,001              Intensite_Chauffe_Eau   \n",
      "3       2016-07-25 15:47:06,673     Energie_Totale_Volets_Roulants   \n",
      "4       2016-07-25 15:47:06,689  Energie_Partielle_Volets_Roulants   \n",
      "...                         ...                                ...   \n",
      "604284  2016-08-01 10:05:21,960                       Gaz_Logement   \n",
      "604285  2016-08-01 10:05:21,960                           E_active   \n",
      "604286  2016-08-01 10:05:21,960                        Freq_totale   \n",
      "604287  2016-08-01 10:05:23,632                            CO2_SDB   \n",
      "604288  2016-08-01 10:05:26,976                   Humidite_Chambre   \n",
      "\n",
      "                2    3    4    5    6    7    8    9    10   11   12   13  \\\n",
      "0               ON  NaN  NaN  NaN  NaN  NaN  NaN  NaN  NaN  NaN  NaN  NaN   \n",
      "1              OFF  NaN  NaN  NaN  NaN  NaN  NaN  NaN  NaN  NaN  NaN  NaN   \n",
      "2                0  NaN  NaN  NaN  NaN  NaN  NaN  NaN  NaN  NaN  NaN  NaN   \n",
      "3             2681  NaN  NaN  NaN  NaN  NaN  NaN  NaN  NaN  NaN  NaN  NaN   \n",
      "4             2681  NaN  NaN  NaN  NaN  NaN  NaN  NaN  NaN  NaN  NaN  NaN   \n",
      "...            ...  ...  ...  ...  ...  ...  ...  ...  ...  ...  ...  ...   \n",
      "604284       83396  NaN  NaN  NaN  NaN  NaN  NaN  NaN  NaN  NaN  NaN  NaN   \n",
      "604285     1540.84  NaN  NaN  NaN  NaN  NaN  NaN  NaN  NaN  NaN  NaN  NaN   \n",
      "604286  49.9897575  NaN  NaN  NaN  NaN  NaN  NaN  NaN  NaN  NaN  NaN  NaN   \n",
      "604287      225.92  NaN  NaN  NaN  NaN  NaN  NaN  NaN  NaN  NaN  NaN  NaN   \n",
      "604288          57  NaN  NaN  NaN  NaN  NaN  NaN  NaN  NaN  NaN  NaN  NaN   \n",
      "\n",
      "         14   15   16  \n",
      "0       NaN  NaN  NaN  \n",
      "1       NaN  NaN  NaN  \n",
      "2       NaN  NaN  NaN  \n",
      "3       NaN  NaN  NaN  \n",
      "4       NaN  NaN  NaN  \n",
      "...     ...  ...  ...  \n",
      "604284  NaN  NaN  NaN  \n",
      "604285  NaN  NaN  NaN  \n",
      "604286  NaN  NaN  NaN  \n",
      "604287  NaN  NaN  NaN  \n",
      "604288  NaN  NaN  NaN  \n",
      "\n",
      "[604289 rows x 17 columns]\n"
     ]
    }
   ],
   "source": [
    "contextAct_df = pd.read_csv('ContextAct@A4H/ContextAct.csv',header=None, sep=',', engine='python')\n",
    "print(contextAct_df)"
   ]
  },
  {
   "cell_type": "code",
   "execution_count": null,
   "metadata": {},
   "outputs": [],
   "source": []
  }
 ],
 "metadata": {
  "kernelspec": {
   "display_name": "tf-gpu",
   "language": "python",
   "name": "tf2.0-gpu"
  },
  "language_info": {
   "codemirror_mode": {
    "name": "ipython",
    "version": 3
   },
   "file_extension": ".py",
   "mimetype": "text/x-python",
   "name": "python",
   "nbconvert_exporter": "python",
   "pygments_lexer": "ipython3",
   "version": "3.7.7"
  }
 },
 "nbformat": 4,
 "nbformat_minor": 4
}
